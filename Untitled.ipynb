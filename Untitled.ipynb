{
 "cells": [
  {
   "cell_type": "code",
   "execution_count": 1,
   "id": "5c59230a",
   "metadata": {},
   "outputs": [
    {
     "data": {
      "text/html": [
       "<div>\n",
       "<style scoped>\n",
       "    .dataframe tbody tr th:only-of-type {\n",
       "        vertical-align: middle;\n",
       "    }\n",
       "\n",
       "    .dataframe tbody tr th {\n",
       "        vertical-align: top;\n",
       "    }\n",
       "\n",
       "    .dataframe thead th {\n",
       "        text-align: right;\n",
       "    }\n",
       "</style>\n",
       "<table border=\"1\" class=\"dataframe\">\n",
       "  <thead>\n",
       "    <tr style=\"text-align: right;\">\n",
       "      <th></th>\n",
       "      <th>satisfaction_level</th>\n",
       "      <th>last_evaluation</th>\n",
       "      <th>number_project</th>\n",
       "      <th>average_montly_hours</th>\n",
       "      <th>time_spend_company</th>\n",
       "      <th>Work_accident</th>\n",
       "      <th>left</th>\n",
       "      <th>promotion_last_5years</th>\n",
       "      <th>department</th>\n",
       "      <th>salary</th>\n",
       "    </tr>\n",
       "  </thead>\n",
       "  <tbody>\n",
       "    <tr>\n",
       "      <th>0</th>\n",
       "      <td>0.38</td>\n",
       "      <td>0.53</td>\n",
       "      <td>2</td>\n",
       "      <td>157</td>\n",
       "      <td>3</td>\n",
       "      <td>0</td>\n",
       "      <td>1</td>\n",
       "      <td>0</td>\n",
       "      <td>sales</td>\n",
       "      <td>low</td>\n",
       "    </tr>\n",
       "    <tr>\n",
       "      <th>1</th>\n",
       "      <td>0.80</td>\n",
       "      <td>0.86</td>\n",
       "      <td>5</td>\n",
       "      <td>262</td>\n",
       "      <td>6</td>\n",
       "      <td>0</td>\n",
       "      <td>1</td>\n",
       "      <td>0</td>\n",
       "      <td>sales</td>\n",
       "      <td>medium</td>\n",
       "    </tr>\n",
       "    <tr>\n",
       "      <th>2</th>\n",
       "      <td>0.11</td>\n",
       "      <td>0.88</td>\n",
       "      <td>7</td>\n",
       "      <td>272</td>\n",
       "      <td>4</td>\n",
       "      <td>0</td>\n",
       "      <td>1</td>\n",
       "      <td>0</td>\n",
       "      <td>sales</td>\n",
       "      <td>medium</td>\n",
       "    </tr>\n",
       "    <tr>\n",
       "      <th>3</th>\n",
       "      <td>0.72</td>\n",
       "      <td>0.87</td>\n",
       "      <td>5</td>\n",
       "      <td>223</td>\n",
       "      <td>5</td>\n",
       "      <td>0</td>\n",
       "      <td>1</td>\n",
       "      <td>0</td>\n",
       "      <td>sales</td>\n",
       "      <td>low</td>\n",
       "    </tr>\n",
       "    <tr>\n",
       "      <th>4</th>\n",
       "      <td>0.37</td>\n",
       "      <td>0.52</td>\n",
       "      <td>2</td>\n",
       "      <td>159</td>\n",
       "      <td>3</td>\n",
       "      <td>0</td>\n",
       "      <td>1</td>\n",
       "      <td>0</td>\n",
       "      <td>sales</td>\n",
       "      <td>low</td>\n",
       "    </tr>\n",
       "  </tbody>\n",
       "</table>\n",
       "</div>"
      ],
      "text/plain": [
       "   satisfaction_level  last_evaluation  number_project  average_montly_hours  \\\n",
       "0                0.38             0.53               2                   157   \n",
       "1                0.80             0.86               5                   262   \n",
       "2                0.11             0.88               7                   272   \n",
       "3                0.72             0.87               5                   223   \n",
       "4                0.37             0.52               2                   159   \n",
       "\n",
       "   time_spend_company  Work_accident  left  promotion_last_5years department  \\\n",
       "0                   3              0     1                      0      sales   \n",
       "1                   6              0     1                      0      sales   \n",
       "2                   4              0     1                      0      sales   \n",
       "3                   5              0     1                      0      sales   \n",
       "4                   3              0     1                      0      sales   \n",
       "\n",
       "   salary  \n",
       "0     low  \n",
       "1  medium  \n",
       "2  medium  \n",
       "3     low  \n",
       "4     low  "
      ]
     },
     "execution_count": 1,
     "metadata": {},
     "output_type": "execute_result"
    }
   ],
   "source": [
    "import pandas as pd\n",
    "\n",
    "# Загрузка данных\n",
    "data = pd.read_csv(\"HR.csv\")\n",
    "data.head()"
   ]
  },
  {
   "cell_type": "code",
   "execution_count": 2,
   "id": "c9337eeb",
   "metadata": {},
   "outputs": [
    {
     "name": "stdout",
     "output_type": "stream",
     "text": [
      "Основные статистики для переменных:\n",
      "       satisfaction_level  last_evaluation  number_project  \\\n",
      "count        14999.000000     14999.000000    14999.000000   \n",
      "mean             0.612834         0.716102        3.803054   \n",
      "std              0.248631         0.171169        1.232592   \n",
      "min              0.090000         0.360000        2.000000   \n",
      "25%              0.440000         0.560000        3.000000   \n",
      "50%              0.640000         0.720000        4.000000   \n",
      "75%              0.820000         0.870000        5.000000   \n",
      "max              1.000000         1.000000        7.000000   \n",
      "\n",
      "       average_montly_hours  time_spend_company  Work_accident          left  \\\n",
      "count          14999.000000        14999.000000   14999.000000  14999.000000   \n",
      "mean             201.050337            3.498233       0.144610      0.238083   \n",
      "std               49.943099            1.460136       0.351719      0.425924   \n",
      "min               96.000000            2.000000       0.000000      0.000000   \n",
      "25%              156.000000            3.000000       0.000000      0.000000   \n",
      "50%              200.000000            3.000000       0.000000      0.000000   \n",
      "75%              245.000000            4.000000       0.000000      0.000000   \n",
      "max              310.000000           10.000000       1.000000      1.000000   \n",
      "\n",
      "       promotion_last_5years  \n",
      "count           14999.000000  \n",
      "mean                0.021268  \n",
      "std                 0.144281  \n",
      "min                 0.000000  \n",
      "25%                 0.000000  \n",
      "50%                 0.000000  \n",
      "75%                 0.000000  \n",
      "max                 1.000000  \n",
      "\n",
      "Медиана для переменных:\n",
      "satisfaction_level         0.64\n",
      "last_evaluation            0.72\n",
      "number_project             4.00\n",
      "average_montly_hours     200.00\n",
      "time_spend_company         3.00\n",
      "Work_accident              0.00\n",
      "left                       0.00\n",
      "promotion_last_5years      0.00\n",
      "dtype: float64\n",
      "\n",
      "Мода для переменных:\n",
      "satisfaction_level         0.1\n",
      "last_evaluation           0.55\n",
      "number_project             4.0\n",
      "average_montly_hours       135\n",
      "time_spend_company         3.0\n",
      "Work_accident              0.0\n",
      "left                       0.0\n",
      "promotion_last_5years      0.0\n",
      "department               sales\n",
      "salary                     low\n",
      "Name: 0, dtype: object\n",
      "\n",
      "Минимальные значения для переменных:\n",
      "satisfaction_level       0.09\n",
      "last_evaluation          0.36\n",
      "number_project              2\n",
      "average_montly_hours       96\n",
      "time_spend_company          2\n",
      "Work_accident               0\n",
      "left                        0\n",
      "promotion_last_5years       0\n",
      "department                 IT\n",
      "salary                   high\n",
      "dtype: object\n",
      "\n",
      "Максимальные значения для переменных:\n",
      "satisfaction_level             1.0\n",
      "last_evaluation                1.0\n",
      "number_project                   7\n",
      "average_montly_hours           310\n",
      "time_spend_company              10\n",
      "Work_accident                    1\n",
      "left                             1\n",
      "promotion_last_5years            1\n",
      "department               technical\n",
      "salary                      medium\n",
      "dtype: object\n",
      "\n",
      "Среднее отклонение для переменных:\n",
      "satisfaction_level        0.248631\n",
      "last_evaluation           0.171169\n",
      "number_project            1.232592\n",
      "average_montly_hours     49.943099\n",
      "time_spend_company        1.460136\n",
      "Work_accident             0.351719\n",
      "left                      0.425924\n",
      "promotion_last_5years     0.144281\n",
      "dtype: float64\n"
     ]
    },
    {
     "name": "stderr",
     "output_type": "stream",
     "text": [
      "C:\\Users\\Всеволод\\AppData\\Local\\Temp\\ipykernel_120596\\2557187147.py:5: FutureWarning: Dropping of nuisance columns in DataFrame reductions (with 'numeric_only=None') is deprecated; in a future version this will raise TypeError.  Select only valid columns before calling the reduction.\n",
      "  median = data.median()\n",
      "C:\\Users\\Всеволод\\AppData\\Local\\Temp\\ipykernel_120596\\2557187147.py:17: FutureWarning: Dropping of nuisance columns in DataFrame reductions (with 'numeric_only=None') is deprecated; in a future version this will raise TypeError.  Select only valid columns before calling the reduction.\n",
      "  std_deviation = data.std()\n"
     ]
    }
   ],
   "source": [
    "# Расчет статистик для переменных\n",
    "statistics = data.describe()\n",
    "\n",
    "# Расчет медианы для переменных\n",
    "median = data.median()\n",
    "\n",
    "# Расчет моды для переменных\n",
    "mode = data.mode().iloc[0]\n",
    "\n",
    "# Расчет минимальных значений для переменных\n",
    "min_values = data.min()\n",
    "\n",
    "# Расчет максимальных значений для переменных\n",
    "max_values = data.max()\n",
    "\n",
    "# Расчет среднего отклонения для переменных\n",
    "std_deviation = data.std()\n",
    "\n",
    "# Вывод результатов\n",
    "print(\"Основные статистики для переменных:\")\n",
    "print(statistics)\n",
    "print(\"\\nМедиана для переменных:\")\n",
    "print(median)\n",
    "print(\"\\nМода для переменных:\")\n",
    "print(mode)\n",
    "print(\"\\nМинимальные значения для переменных:\")\n",
    "print(min_values)\n",
    "print(\"\\nМаксимальные значения для переменных:\")\n",
    "print(max_values)\n",
    "print(\"\\nСреднее отклонение для переменных:\")\n",
    "print(std_deviation)"
   ]
  },
  {
   "cell_type": "code",
   "execution_count": 4,
   "id": "99be66a5",
   "metadata": {},
   "outputs": [
    {
     "data": {
      "image/png": "[encoded data removed]",
      "text/plain": [
       "<Figure size 432x288 with 2 Axes>"
      ]
     },
     "metadata": {
      "needs_background": "light"
     },
     "output_type": "display_data"
    }
   ],
   "source": [
    "import pandas as pd\n",
    "import seaborn as sns\n",
    "import matplotlib.pyplot as plt\n",
    "\n",
    "# Загрузка данных из файла HR.csv\n",
    "df = pd.read_csv('HR.csv')\n",
    "\n",
    "# Выбор только количественных переменных\n",
    "numeric_variables = df[['satisfaction_level', 'last_evaluation', 'number_project', 'average_montly_hours', 'time_spend_company']]\n",
    "\n",
    "# Расчет корреляционной матрицы\n",
    "correlation_matrix = numeric_variables.corr()\n",
    "\n",
    "# Визуализация корреляционной матрицы\n",
    "sns.heatmap(correlation_matrix, annot=True, cmap='coolwarm', fmt=\".2f\")\n",
    "plt.title('Correlation Matrix of Quantitative Variables')\n",
    "plt.show()"
   ]
  },
  {
   "cell_type": "code",
   "execution_count": 7,
   "id": "0751c9a6",
   "metadata": {},
   "outputs": [
    {
     "name": "stdout",
     "output_type": "stream",
     "text": [
      "Две самые скоррелированные переменные:\n",
      "Series([], dtype: float64)\n",
      "\n",
      "Две наименее скоррелированные переменные:\n",
      "number_project      satisfaction_level   -0.14297\n",
      "satisfaction_level  number_project       -0.14297\n",
      "dtype: float64\n"
     ]
    }
   ],
   "source": [
    "# Поиск двух самых скоррелированных переменных\n",
    "max_correlation = correlation_matrix.unstack().sort_values(ascending=False)\n",
    "most_correlated = max_correlation[(max_correlation < 1) & (max_correlation > 0.5)].head(2)\n",
    "print(\"Две самые скоррелированные переменные:\")\n",
    "print(most_correlated)\n",
    "\n",
    "# Поиск двух наименее скоррелированных переменных\n",
    "min_correlation = correlation_matrix.unstack().sort_values()\n",
    "least_correlated = min_correlation[(min_correlation < 0) & (min_correlation > -0.5)].head(2)\n",
    "print(\"\\nДве наименее скоррелированные переменные:\")\n",
    "print(least_correlated)"
   ]
  },
  {
   "cell_type": "code",
   "execution_count": 8,
   "id": "8e7b964c",
   "metadata": {},
   "outputs": [
    {
     "name": "stdout",
     "output_type": "stream",
     "text": [
      "sales          4140\n",
      "technical      2720\n",
      "support        2229\n",
      "IT             1227\n",
      "product_mng     902\n",
      "marketing       858\n",
      "RandD           787\n",
      "accounting      767\n",
      "hr              739\n",
      "management      630\n",
      "Name: department, dtype: int64\n"
     ]
    }
   ],
   "source": [
    "import pandas as pd\n",
    "\n",
    "# Загрузка данных\n",
    "data = pd.read_csv('HR.csv')\n",
    "\n",
    "# Подсчет количества сотрудников в каждом отделе\n",
    "employees_per_department = data['department'].value_counts()\n",
    "print(employees_per_department)"
   ]
  },
  {
   "cell_type": "code",
   "execution_count": 9,
   "id": "f56ed980",
   "metadata": {},
   "outputs": [
    {
     "data": {
      "image/png": "[encoded data removed]",
      "text/plain": [
       "<Figure size 432x288 with 1 Axes>"
      ]
     },
     "metadata": {
      "needs_background": "light"
     },
     "output_type": "display_data"
    }
   ],
   "source": [
    "import matplotlib.pyplot as plt\n",
    "\n",
    "# Построение гистограммы распределения зарплат\n",
    "plt.hist(data['salary'])\n",
    "plt.xlabel('Уровень зарплаты')\n",
    "plt.ylabel('Количество сотрудников')\n",
    "plt.show()"
   ]
  },
  {
   "cell_type": "code",
   "execution_count": 10,
   "id": "2c460c34",
   "metadata": {},
   "outputs": [
    {
     "data": {
      "image/png": "[encoded data removed]",
      "text/plain": [
       "<Figure size 864x576 with 1 Axes>"
      ]
     },
     "metadata": {
      "needs_background": "light"
     },
     "output_type": "display_data"
    }
   ],
   "source": [
    "import seaborn as sns\n",
    "import matplotlib.pyplot as plt\n",
    "\n",
    "# Построение графика распределения зарплат по отделам\n",
    "plt.figure(figsize=(12, 8))\n",
    "sns.countplot(x='department', hue='salary', data=data)\n",
    "plt.xlabel('Отдел')\n",
    "plt.ylabel('Количество сотрудников')\n",
    "plt.legend(title='Уровень зарплаты')\n",
    "plt.show()"
   ]
  },
  {
   "cell_type": "code",
   "execution_count": 12,
   "id": "eada4ae9",
   "metadata": {},
   "outputs": [
    {
     "name": "stdout",
     "output_type": "stream",
     "text": [
      "Нет статистически значимой разницы между средним временем на работе для сотрудников с высоким и низким окладом.\n"
     ]
    }
   ],
   "source": [
    "from scipy import stats\n",
    "\n",
    "# Разделение данных на две выборки по уровню зарплаты\n",
    "high_salary = data[data['salary'] == 'high']['average_montly_hours']\n",
    "low_salary = data[data['salary'] == 'low']['average_montly_hours']\n",
    "\n",
    "# Проведение t-теста\n",
    "t_stat, p_value = stats.ttest_ind(high_salary, low_salary)\n",
    "if p_value < 0.05:\n",
    "    print(\"Существует статистически значимая разница между средним временем на работе для сотрудников с высоким и низким окладом.\")\n",
    "else:\n",
    "    print(\"Нет статистически значимой разницы между средним временем на работе для сотрудников с высоким и низким окладом.\")"
   ]
  },
  {
   "cell_type": "code",
   "execution_count": 14,
   "id": "e7d457b2",
   "metadata": {},
   "outputs": [
    {
     "name": "stdout",
     "output_type": "stream",
     "text": [
      "Доля сотрудников с повышением за последние 5 лет:\n",
      "left\n",
      "0    0.026251\n",
      "1    0.005321\n",
      "Name: promotion_last_5years, dtype: float64\n",
      "\n",
      "Средняя степень удовлетворенности:\n",
      "left\n",
      "0    0.666810\n",
      "1    0.440098\n",
      "Name: satisfaction_level, dtype: float64\n",
      "\n",
      "Среднее количество проектов:\n",
      "left\n",
      "0    3.786664\n",
      "1    3.855503\n",
      "Name: number_project, dtype: float64\n"
     ]
    }
   ],
   "source": [
    "import pandas as pd\n",
    "\n",
    "# Загрузка данных\n",
    "data = pd.read_csv('HR.csv')\n",
    "\n",
    "# Рассчет доли сотрудников с повышением за последние 5 лет\n",
    "promotion_rate = data.groupby('left')['promotion_last_5years'].mean()\n",
    "\n",
    "# Рассчет средней степени удовлетворенности\n",
    "satisfaction_mean = data.groupby('left')['satisfaction_level'].mean()\n",
    "\n",
    "# Рассчет среднего количества проектов\n",
    "projects_mean = data.groupby('left')['number_project'].mean()\n",
    "\n",
    "# Результаты\n",
    "print(\"Доля сотрудников с повышением за последние 5 лет:\")\n",
    "print(promotion_rate)\n",
    "\n",
    "print(\"\\nСредняя степень удовлетворенности:\")\n",
    "print(satisfaction_mean)\n",
    "\n",
    "print(\"\\nСреднее количество проектов:\")\n",
    "print(projects_mean)"
   ]
  },
  {
   "cell_type": "code",
   "execution_count": 18,
   "id": "d2e5b4f5",
   "metadata": {},
   "outputs": [
    {
     "data": {
      "text/html": [
       "<div>\n",
       "<style scoped>\n",
       "    .dataframe tbody tr th:only-of-type {\n",
       "        vertical-align: middle;\n",
       "    }\n",
       "\n",
       "    .dataframe tbody tr th {\n",
       "        vertical-align: top;\n",
       "    }\n",
       "\n",
       "    .dataframe thead th {\n",
       "        text-align: right;\n",
       "    }\n",
       "</style>\n",
       "<table border=\"1\" class=\"dataframe\">\n",
       "  <thead>\n",
       "    <tr style=\"text-align: right;\">\n",
       "      <th></th>\n",
       "      <th>satisfaction_level</th>\n",
       "      <th>last_evaluation</th>\n",
       "      <th>number_project</th>\n",
       "      <th>average_montly_hours</th>\n",
       "      <th>time_spend_company</th>\n",
       "      <th>Work_accident</th>\n",
       "      <th>promotion_last_5years</th>\n",
       "    </tr>\n",
       "  </thead>\n",
       "  <tbody>\n",
       "    <tr>\n",
       "      <th>6723</th>\n",
       "      <td>0.65</td>\n",
       "      <td>0.96</td>\n",
       "      <td>5</td>\n",
       "      <td>226</td>\n",
       "      <td>2</td>\n",
       "      <td>1</td>\n",
       "      <td>0</td>\n",
       "    </tr>\n",
       "    <tr>\n",
       "      <th>6473</th>\n",
       "      <td>0.88</td>\n",
       "      <td>0.80</td>\n",
       "      <td>3</td>\n",
       "      <td>166</td>\n",
       "      <td>2</td>\n",
       "      <td>0</td>\n",
       "      <td>0</td>\n",
       "    </tr>\n",
       "    <tr>\n",
       "      <th>4679</th>\n",
       "      <td>0.69</td>\n",
       "      <td>0.98</td>\n",
       "      <td>3</td>\n",
       "      <td>214</td>\n",
       "      <td>2</td>\n",
       "      <td>0</td>\n",
       "      <td>0</td>\n",
       "    </tr>\n",
       "    <tr>\n",
       "      <th>862</th>\n",
       "      <td>0.41</td>\n",
       "      <td>0.47</td>\n",
       "      <td>2</td>\n",
       "      <td>154</td>\n",
       "      <td>3</td>\n",
       "      <td>0</td>\n",
       "      <td>0</td>\n",
       "    </tr>\n",
       "    <tr>\n",
       "      <th>7286</th>\n",
       "      <td>0.87</td>\n",
       "      <td>0.76</td>\n",
       "      <td>5</td>\n",
       "      <td>254</td>\n",
       "      <td>2</td>\n",
       "      <td>1</td>\n",
       "      <td>0</td>\n",
       "    </tr>\n",
       "  </tbody>\n",
       "</table>\n",
       "</div>"
      ],
      "text/plain": [
       "      satisfaction_level  last_evaluation  number_project  \\\n",
       "6723                0.65             0.96               5   \n",
       "6473                0.88             0.80               3   \n",
       "4679                0.69             0.98               3   \n",
       "862                 0.41             0.47               2   \n",
       "7286                0.87             0.76               5   \n",
       "\n",
       "      average_montly_hours  time_spend_company  Work_accident  \\\n",
       "6723                   226                   2              1   \n",
       "6473                   166                   2              0   \n",
       "4679                   214                   2              0   \n",
       "862                    154                   3              0   \n",
       "7286                   254                   2              1   \n",
       "\n",
       "      promotion_last_5years  \n",
       "6723                      0  \n",
       "6473                      0  \n",
       "4679                      0  \n",
       "862                       0  \n",
       "7286                      0  "
      ]
     },
     "execution_count": 18,
     "metadata": {},
     "output_type": "execute_result"
    }
   ],
   "source": [
    "import pandas as pd\n",
    "from sklearn.model_selection import train_test_split\n",
    "\n",
    "data = pd.read_csv('HR.csv')\n",
    "\n",
    "X = data.drop(['left', 'department', 'salary'], axis=1)\n",
    "y = data['left']\n",
    "\n",
    "X_train, X_test, y_train, y_test = train_test_split(X, y, test_size=0.2, random_state=42)"
   ]
  },
  {
   "cell_type": "code",
   "execution_count": 16,
   "id": "c5f4a255",
   "metadata": {},
   "outputs": [],
   "source": [
    "from sklearn.discriminant_analysis import LinearDiscriminantAnalysis\n",
    "\n",
    "lda = LinearDiscriminantAnalysis()\n",
    "lda.fit(X_train, y_train)\n",
    "\n",
    "y_pred = lda.predict(X_test)"
   ]
  },
  {
   "cell_type": "code",
   "execution_count": 17,
   "id": "0e007bbd",
   "metadata": {},
   "outputs": [
    {
     "name": "stdout",
     "output_type": "stream",
     "text": [
      "Accuracy: 0.7533333333333333\n"
     ]
    }
   ],
   "source": [
    "from sklearn.metrics import accuracy_score\n",
    "\n",
    "accuracy = accuracy_score(y_test, y_pred)\n",
    "print(\"Accuracy:\", accuracy)"
   ]
  },
  {
   "cell_type": "code",
   "execution_count": null,
   "id": "a9b210aa",
   "metadata": {},
   "outputs": [],
   "source": []
  },
  {
   "cell_type": "code",
   "execution_count": null,
   "id": "a6a8ba3e",
   "metadata": {},
   "outputs": [],
   "source": []
  },
  {
   "cell_type": "code",
   "execution_count": null,
   "id": "10632345",
   "metadata": {},
   "outputs": [],
   "source": []
  },
  {
   "cell_type": "code",
   "execution_count": null,
   "id": "b80feb60",
   "metadata": {},
   "outputs": [],
   "source": []
  },
  {
   "cell_type": "code",
   "execution_count": null,
   "id": "d7dc7ab5",
   "metadata": {},
   "outputs": [],
   "source": []
  },
  {
   "cell_type": "code",
   "execution_count": null,
   "id": "f3b807f2",
   "metadata": {},
   "outputs": [],
   "source": []
  }
 ],
 "metadata": {
  "kernelspec": {
   "display_name": "Python 3 (ipykernel)",
   "language": "python",
   "name": "python3"
  },
  "language_info": {
   "codemirror_mode": {
    "name": "ipython",
    "version": 3
   },
   "file_extension": ".py",
   "mimetype": "text/x-python",
   "name": "python",
   "nbconvert_exporter": "python",
   "pygments_lexer": "ipython3",
   "version": "3.9.12"
  }
 },
 "nbformat": 4,
 "nbformat_minor": 5
}
